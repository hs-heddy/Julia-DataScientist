{
 "cells": [
  {
   "cell_type": "markdown",
   "metadata": {},
   "source": [
    "# データサイエンティストのための優しいJulia入門（基本文法編）\n",
    "Juliaと言えば、その高速性やマクロ、多重ディスパッチといった豊富な言語仕様が特徴です。ですが、ここではそのあたりの優位性にあまり突っ込まず、普段PythonやRを使っているデータサイエンティストのためのJulia入門コースを整備しました。   \n",
    "実行環境はv1.0.2です。   \n",
    "\n",
    "このNotebookでは、基本文法を扱います。"
   ]
  },
  {
   "cell_type": "markdown",
   "metadata": {},
   "source": [
    "## 基本文法\n",
    "Juliaに登場する主な型として次の７つについて簡単に学びます。   \n",
    "Pythonを使い慣れている人は違和感なく入れると思いますが、少しづつ違うところがあるので気をつけてください。   \n",
    "\n",
    "* 数値   \n",
    "* 文字列\n",
    "* ブール値\n",
    "* 配列\n",
    "* 辞書\n",
    "* タプル\n",
    "* 集合\n",
    "\n",
    "それから基本的なステートメントについて簡単に説明します。   \n",
    "* For文\n",
    "* If文\n",
    "* 関数（function）\n",
    "\n",
    "では、進みましょう。   "
   ]
  },
  {
   "cell_type": "markdown",
   "metadata": {},
   "source": [
    "## 変数と型"
   ]
  },
  {
   "cell_type": "markdown",
   "metadata": {},
   "source": [
    "### 数値（Integers and Floating-Point Numbers）\n",
    "数値型の中でも大きくは整数（Int）と浮動小数点数（Float)に分かれます。   \n",
    "基本的な文法はPythonとほとんど変わりません。ここでは簡単に型の説明と演算について触れます。"
   ]
  },
  {
   "cell_type": "markdown",
   "metadata": {},
   "source": [
    "変数の定義の仕方（リテラル）や演算子はPythonと同じです。   "
   ]
  },
  {
   "cell_type": "code",
   "execution_count": 1,
   "metadata": {},
   "outputs": [
    {
     "data": {
      "text/plain": [
       "2"
      ]
     },
     "execution_count": 1,
     "metadata": {},
     "output_type": "execute_result"
    }
   ],
   "source": [
    "a = 2   # 整数の変数の定義"
   ]
  },
  {
   "cell_type": "code",
   "execution_count": 2,
   "metadata": {},
   "outputs": [
    {
     "data": {
      "text/plain": [
       "0.1"
      ]
     },
     "execution_count": 2,
     "metadata": {},
     "output_type": "execute_result"
    }
   ],
   "source": [
    "b = 0.1   # 浮動小数点数の変数の定義"
   ]
  },
  {
   "cell_type": "markdown",
   "metadata": {},
   "source": [
    "<b>typeof()</b>で型を見ることができます。   "
   ]
  },
  {
   "cell_type": "code",
   "execution_count": 3,
   "metadata": {},
   "outputs": [
    {
     "data": {
      "text/plain": [
       "Int64"
      ]
     },
     "execution_count": 3,
     "metadata": {},
     "output_type": "execute_result"
    }
   ],
   "source": [
    "typeof(a)  # 型の確認"
   ]
  },
  {
   "cell_type": "code",
   "execution_count": 4,
   "metadata": {},
   "outputs": [
    {
     "data": {
      "text/plain": [
       "Float64"
      ]
     },
     "execution_count": 4,
     "metadata": {},
     "output_type": "execute_result"
    }
   ],
   "source": [
    "typeof(b) # 型の確認"
   ]
  },
  {
   "cell_type": "markdown",
   "metadata": {},
   "source": [
    "整数の中でも符号の有無やバイト数で11種類、浮動小数点数の中でも3種類の型があり、<b>Int64</b>, <b>Float64</b>はデフォルトの型です。使っているシステムのアーキテクチャによってデフォルトは変わります。  \n",
    "詳しくは[公式](https://docs.julialang.org/en/v1/manual/integers-and-floating-point-numbers/index.html)を見てみてください。   "
   ]
  },
  {
   "cell_type": "markdown",
   "metadata": {},
   "source": [
    "型を明示することで、デフォルト以外の型で変数を定義できます。例えば<b>UInt32</b>は0以上の３２ビットの値です。"
   ]
  },
  {
   "cell_type": "code",
   "execution_count": 5,
   "metadata": {},
   "outputs": [
    {
     "data": {
      "text/plain": [
       "UInt32"
      ]
     },
     "execution_count": 5,
     "metadata": {},
     "output_type": "execute_result"
    }
   ],
   "source": [
    "c = UInt32(2)\n",
    "typeof(c)"
   ]
  },
  {
   "cell_type": "markdown",
   "metadata": {},
   "source": [
    "演算子は多くの言語と同様です。   \n",
    "なお、出力には<b>println()</b>を使います。<b>print()</b>だと改行なしになります。"
   ]
  },
  {
   "cell_type": "code",
   "execution_count": 6,
   "metadata": {},
   "outputs": [
    {
     "name": "stdout",
     "output_type": "stream",
     "text": [
      "足し算：14\n",
      "引き算：-10\n",
      "掛け算：24\n",
      "割り算：0.16666666666666666\n",
      "あまり：2\n",
      "累乗：4096\n"
     ]
    }
   ],
   "source": [
    "a = 2\n",
    "b = 12\n",
    "\n",
    "println(\"足し算：\", a + b)\n",
    "println(\"引き算：\", a - b)\n",
    "println(\"掛け算：\", a * b)\n",
    "println(\"割り算：\", a / b)\n",
    "println(\"あまり：\", a % b)\n",
    "println(\"累乗：\", a ^ b)"
   ]
  },
  {
   "cell_type": "markdown",
   "metadata": {},
   "source": [
    "おなじみの<b>+=</b>や<b>-=</b>の記法もあります。"
   ]
  },
  {
   "cell_type": "code",
   "execution_count": 7,
   "metadata": {},
   "outputs": [
    {
     "data": {
      "text/plain": [
       "3"
      ]
     },
     "execution_count": 7,
     "metadata": {},
     "output_type": "execute_result"
    }
   ],
   "source": [
    "a += 1"
   ]
  },
  {
   "cell_type": "markdown",
   "metadata": {},
   "source": [
    "IntとFloatの演算の結果はFloat型に変換されます。<b>Int()</b>でくくってキャストできます。"
   ]
  },
  {
   "cell_type": "code",
   "execution_count": 8,
   "metadata": {},
   "outputs": [
    {
     "name": "stdout",
     "output_type": "stream",
     "text": [
      "10.0\n",
      "10\n"
     ]
    }
   ],
   "source": [
    "c = 1 / 0.1\n",
    "\n",
    "println(c)\n",
    "println(Int(c))"
   ]
  },
  {
   "cell_type": "markdown",
   "metadata": {},
   "source": [
    "Int / Int はFloatにしてくれます。Python3と同じです。（Python2と異なります）"
   ]
  },
  {
   "cell_type": "code",
   "execution_count": 9,
   "metadata": {
    "scrolled": true
   },
   "outputs": [
    {
     "data": {
      "text/plain": [
       "0.5"
      ]
     },
     "execution_count": 9,
     "metadata": {},
     "output_type": "execute_result"
    }
   ],
   "source": [
    "e = 1 / 2"
   ]
  },
  {
   "cell_type": "code",
   "execution_count": 10,
   "metadata": {
    "scrolled": true
   },
   "outputs": [
    {
     "ename": "MethodError",
     "evalue": "MethodError: no method matching round(::Float64, ::Int64)\nClosest candidates are:\n  round(::Float64, !Matched::RoundingMode{:Nearest}) at float.jl:368\n  round(::Float64, !Matched::RoundingMode{:Up}) at float.jl:366\n  round(::Float64, !Matched::RoundingMode{:Down}) at float.jl:364\n  ...",
     "output_type": "error",
     "traceback": [
      "MethodError: no method matching round(::Float64, ::Int64)\nClosest candidates are:\n  round(::Float64, !Matched::RoundingMode{:Nearest}) at float.jl:368\n  round(::Float64, !Matched::RoundingMode{:Up}) at float.jl:366\n  round(::Float64, !Matched::RoundingMode{:Down}) at float.jl:364\n  ...",
      "",
      "Stacktrace:",
      " [1] top-level scope at In[10]:1"
     ]
    }
   ],
   "source": [
    "round(3.14, 1)"
   ]
  },
  {
   "cell_type": "markdown",
   "metadata": {},
   "source": [
    "数値周りで演算以外でよく使うのは<b>abs</b>, <b>round</b>, <b>floor</b>, <b>ceil</b>ですよね。"
   ]
  },
  {
   "cell_type": "code",
   "execution_count": 11,
   "metadata": {},
   "outputs": [
    {
     "data": {
      "text/plain": [
       "1999"
      ]
     },
     "execution_count": 11,
     "metadata": {},
     "output_type": "execute_result"
    }
   ],
   "source": [
    "abs(-1999) # 絶対値"
   ]
  },
  {
   "cell_type": "code",
   "execution_count": 12,
   "metadata": {},
   "outputs": [
    {
     "data": {
      "text/plain": [
       "1.0"
      ]
     },
     "execution_count": 12,
     "metadata": {},
     "output_type": "execute_result"
    }
   ],
   "source": [
    "round(1.23741) # 小数点丸め"
   ]
  },
  {
   "cell_type": "code",
   "execution_count": 13,
   "metadata": {},
   "outputs": [
    {
     "data": {
      "text/plain": [
       "1.237"
      ]
     },
     "execution_count": 13,
     "metadata": {},
     "output_type": "execute_result"
    }
   ],
   "source": [
    "round(1.23741, digits=3) # 小数点以下の桁数指定で丸め"
   ]
  },
  {
   "cell_type": "code",
   "execution_count": 14,
   "metadata": {},
   "outputs": [
    {
     "data": {
      "text/plain": [
       "1.24"
      ]
     },
     "execution_count": 14,
     "metadata": {},
     "output_type": "execute_result"
    }
   ],
   "source": [
    "round(1.23741, sigdigits=3) # 頭からの桁数指定で丸め"
   ]
  },
  {
   "cell_type": "code",
   "execution_count": 15,
   "metadata": {},
   "outputs": [
    {
     "data": {
      "text/plain": [
       "1.238"
      ]
     },
     "execution_count": 15,
     "metadata": {},
     "output_type": "execute_result"
    }
   ],
   "source": [
    "ceil(1.23741, digits=3) # 繰り上げ"
   ]
  },
  {
   "cell_type": "code",
   "execution_count": 16,
   "metadata": {},
   "outputs": [
    {
     "data": {
      "text/plain": [
       "1.237"
      ]
     },
     "execution_count": 16,
     "metadata": {},
     "output_type": "execute_result"
    }
   ],
   "source": [
    "floor(1.23741, digits=3) # 繰り下げ"
   ]
  },
  {
   "cell_type": "markdown",
   "metadata": {},
   "source": [
    "対数変換、指数変換、平方根もデフォルトであります。"
   ]
  },
  {
   "cell_type": "code",
   "execution_count": 17,
   "metadata": {},
   "outputs": [
    {
     "data": {
      "text/plain": [
       "2.302585092994046"
      ]
     },
     "execution_count": 17,
     "metadata": {},
     "output_type": "execute_result"
    }
   ],
   "source": [
    "log(10) # 自然対数"
   ]
  },
  {
   "cell_type": "code",
   "execution_count": 18,
   "metadata": {},
   "outputs": [
    {
     "data": {
      "text/plain": [
       "3.321928094887362"
      ]
     },
     "execution_count": 18,
     "metadata": {},
     "output_type": "execute_result"
    }
   ],
   "source": [
    "log2(10) # 定数を2に指定"
   ]
  },
  {
   "cell_type": "code",
   "execution_count": 19,
   "metadata": {},
   "outputs": [
    {
     "data": {
      "text/plain": [
       "1.0"
      ]
     },
     "execution_count": 19,
     "metadata": {},
     "output_type": "execute_result"
    }
   ],
   "source": [
    "log10(10) # 定数を10に指定"
   ]
  },
  {
   "cell_type": "code",
   "execution_count": 20,
   "metadata": {},
   "outputs": [
    {
     "data": {
      "text/plain": [
       "2.095903274289385"
      ]
     },
     "execution_count": 20,
     "metadata": {},
     "output_type": "execute_result"
    }
   ],
   "source": [
    "log(3, 10) # 定数を3に指定"
   ]
  },
  {
   "cell_type": "code",
   "execution_count": 21,
   "metadata": {},
   "outputs": [
    {
     "data": {
      "text/plain": [
       "22026.465794806718"
      ]
     },
     "execution_count": 21,
     "metadata": {},
     "output_type": "execute_result"
    }
   ],
   "source": [
    "exp(10) # 指数"
   ]
  },
  {
   "cell_type": "code",
   "execution_count": 22,
   "metadata": {},
   "outputs": [
    {
     "data": {
      "text/plain": [
       "3.1622776601683795"
      ]
     },
     "execution_count": 22,
     "metadata": {},
     "output_type": "execute_result"
    }
   ],
   "source": [
    "sqrt(10) # 平方根"
   ]
  },
  {
   "cell_type": "markdown",
   "metadata": {},
   "source": [
    "数値は他にも他にも複素数型、有理数型、多倍長型(BigInt, BigFloat)があります。   \n",
    "詳しく知りたい方はこちらがわかりやすいです。[bicycle1885/Julia-Tutorial/Julia高速チュートリアル.ipynb](https://github.com/bicycle1885/Julia-Tutorial/blob/master/Julia%E9%AB%98%E9%80%9F%E3%83%81%E3%83%A5%E3%83%BC%E3%83%88%E3%83%AA%E3%82%A2%E3%83%AB.ipynb)"
   ]
  },
  {
   "cell_type": "markdown",
   "metadata": {},
   "source": [
    "### 文字列（String）"
   ]
  },
  {
   "cell_type": "markdown",
   "metadata": {},
   "source": [
    "<b>文字列型（String）</b>は、Pythonの文字列と同じように、スライス、分割、結合、置換などの操作ができます。ただし、変数の定義方法（リテラル）はダブルクオーテーション(\"あ\")のみであり、シングルクオーテーション（'あ'）で定義しようとすると別の型である<b>文字型（Char）</b>になるので注意が必要です。   \n",
    "ここでは文字列型を中心に、文字型についても軽く触れます。"
   ]
  },
  {
   "cell_type": "markdown",
   "metadata": {},
   "source": [
    "まず基本的な文字列型の操作をいくつかあげます。<b>インデックスが1始まり</b>なのでPythonユーザは注意が必要です。"
   ]
  },
  {
   "cell_type": "code",
   "execution_count": 23,
   "metadata": {},
   "outputs": [
    {
     "data": {
      "text/plain": [
       "\"abc\""
      ]
     },
     "execution_count": 23,
     "metadata": {},
     "output_type": "execute_result"
    }
   ],
   "source": [
    "s = \"abc\"   # 文字列の定義"
   ]
  },
  {
   "cell_type": "code",
   "execution_count": 24,
   "metadata": {},
   "outputs": [
    {
     "data": {
      "text/plain": [
       "3"
      ]
     },
     "execution_count": 24,
     "metadata": {},
     "output_type": "execute_result"
    }
   ],
   "source": [
    "length(s)   # 文字列の長さの取得"
   ]
  },
  {
   "cell_type": "code",
   "execution_count": 25,
   "metadata": {},
   "outputs": [
    {
     "data": {
      "text/plain": [
       "\"ab\""
      ]
     },
     "execution_count": 25,
     "metadata": {},
     "output_type": "execute_result"
    }
   ],
   "source": [
    "s[1:2]   # 文字列のスライス"
   ]
  },
  {
   "cell_type": "markdown",
   "metadata": {},
   "source": [
    "分割・結合・置換です。<b>オブジェクト名.処理名</b>の構文ではなく、<b>処理名（オブジェクト名）</b>の構文になります。"
   ]
  },
  {
   "cell_type": "code",
   "execution_count": 26,
   "metadata": {},
   "outputs": [
    {
     "data": {
      "text/plain": [
       "2-element Array{SubString{String},1}:\n",
       " \"a\"\n",
       " \"c\""
      ]
     },
     "execution_count": 26,
     "metadata": {},
     "output_type": "execute_result"
    }
   ],
   "source": [
    "split(s, \"b\")　　　# 文字列の分割"
   ]
  },
  {
   "cell_type": "code",
   "execution_count": 27,
   "metadata": {},
   "outputs": [
    {
     "data": {
      "text/plain": [
       "\"abcd\""
      ]
     },
     "execution_count": 27,
     "metadata": {},
     "output_type": "execute_result"
    }
   ],
   "source": [
    "string(s, \"d\")　　　# 文字列の結合"
   ]
  },
  {
   "cell_type": "code",
   "execution_count": 28,
   "metadata": {},
   "outputs": [
    {
     "data": {
      "text/plain": [
       "\"aBc\""
      ]
     },
     "execution_count": 28,
     "metadata": {},
     "output_type": "execute_result"
    }
   ],
   "source": [
    "replace(s, \"b\" => \"B\")   # 文字列の置換"
   ]
  },
  {
   "cell_type": "markdown",
   "metadata": {},
   "source": [
    "文字列の結合は以下のように<b> * </b>記号を使ってもできます。Pythonでは<b> + </b>で文字列の結合でしたがエラーになります。"
   ]
  },
  {
   "cell_type": "code",
   "execution_count": 29,
   "metadata": {},
   "outputs": [
    {
     "data": {
      "text/plain": [
       "\"abcd\""
      ]
     },
     "execution_count": 29,
     "metadata": {},
     "output_type": "execute_result"
    }
   ],
   "source": [
    "s * \"d\"　　　# 文字列の結合　その２"
   ]
  },
  {
   "cell_type": "code",
   "execution_count": 30,
   "metadata": {},
   "outputs": [
    {
     "ename": "MethodError",
     "evalue": "MethodError: no method matching +(::String, ::String)\nClosest candidates are:\n  +(::Any, ::Any, !Matched::Any, !Matched::Any...) at operators.jl:502",
     "output_type": "error",
     "traceback": [
      "MethodError: no method matching +(::String, ::String)\nClosest candidates are:\n  +(::Any, ::Any, !Matched::Any, !Matched::Any...) at operators.jl:502",
      "",
      "Stacktrace:",
      " [1] top-level scope at In[30]:1"
     ]
    }
   ],
   "source": [
    "s + \"d\" # 文字列の結合（エラー）"
   ]
  },
  {
   "cell_type": "markdown",
   "metadata": {},
   "source": [
    "次に特定の文字列が含まれるかの判定です。真偽を返す<b>occursin</b>と、その文字が何文字目にあるかのインデックスを返す<b>findfirst</b>,<b>findlast</b>,<b>findnext</b>があります。(注：v1.0より古いヴァージョンであった<b>contains</b>,<b>search</b>はなくなりました。)"
   ]
  },
  {
   "cell_type": "code",
   "execution_count": 31,
   "metadata": {},
   "outputs": [
    {
     "name": "stdout",
     "output_type": "stream",
     "text": [
      "true\n",
      "2:2\n",
      "5:5\n",
      "5:5\n"
     ]
    }
   ],
   "source": [
    "s = \"abbcb\"   # 文字列の定義\n",
    "\n",
    "println(occursin(\"b\", s))   # 指定する文字列が含まれるかの判定\n",
    "\n",
    "println(findfirst(\"b\", s))   # 指定する文字列が前から何文字目にあるか\n",
    "\n",
    "println(findlast(\"b\", s))   # 指定する文字列が後ろから何文字目にあるか\n",
    "\n",
    "println(findnext(\"b\", s, 4))   #　指定する文字列が４文字目以降だと何文字目にあるか"
   ]
  },
  {
   "cell_type": "markdown",
   "metadata": {},
   "source": [
    "find~の出力は範囲を示すJuliaの型（範囲型）のオブジェクトで返ってきます。以下のようにして整数値として取得できます。"
   ]
  },
  {
   "cell_type": "code",
   "execution_count": 32,
   "metadata": {},
   "outputs": [
    {
     "data": {
      "text/plain": [
       "2"
      ]
     },
     "execution_count": 32,
     "metadata": {},
     "output_type": "execute_result"
    }
   ],
   "source": [
    "findfirst(\"b\", s)[1]"
   ]
  },
  {
   "cell_type": "markdown",
   "metadata": {},
   "source": [
    "### 文字（Char）"
   ]
  },
  {
   "cell_type": "markdown",
   "metadata": {},
   "source": [
    "次に文字（Char）の型について。Char型で定義できるのは1つの文字です。   "
   ]
  },
  {
   "cell_type": "code",
   "execution_count": 33,
   "metadata": {},
   "outputs": [
    {
     "data": {
      "text/plain": [
       "'a': ASCII/Unicode U+0061 (category Ll: Letter, lowercase)"
      ]
     },
     "execution_count": 33,
     "metadata": {},
     "output_type": "execute_result"
    }
   ],
   "source": [
    "cha_1 = 'a'   # Char型の定義"
   ]
  },
  {
   "cell_type": "code",
   "execution_count": 34,
   "metadata": {},
   "outputs": [
    {
     "data": {
      "text/plain": [
       "'あ': Unicode U+3042 (category Lo: Letter, other)"
      ]
     },
     "execution_count": 34,
     "metadata": {},
     "output_type": "execute_result"
    }
   ],
   "source": [
    "cha_2 = 'あ'   # Char型の定義"
   ]
  },
  {
   "cell_type": "markdown",
   "metadata": {},
   "source": [
    "２文字以上を入れようとするとエラーになります。"
   ]
  },
  {
   "cell_type": "code",
   "execution_count": 35,
   "metadata": {},
   "outputs": [
    {
     "ename": "LoadError",
     "evalue": "syntax: invalid character literal",
     "output_type": "error",
     "traceback": [
      "syntax: invalid character literal",
      ""
     ]
    }
   ],
   "source": [
    "cha_error = 'ab'   # Char型の定義"
   ]
  },
  {
   "cell_type": "markdown",
   "metadata": {},
   "source": [
    "文字型はIntにキャストすることで、Unicode コードポイントの整数値に変換することができます。   "
   ]
  },
  {
   "cell_type": "code",
   "execution_count": 36,
   "metadata": {},
   "outputs": [
    {
     "data": {
      "text/plain": [
       "97"
      ]
     },
     "execution_count": 36,
     "metadata": {},
     "output_type": "execute_result"
    }
   ],
   "source": [
    "Int(cha_1)"
   ]
  },
  {
   "cell_type": "markdown",
   "metadata": {},
   "source": [
    "### ブール値（Boolean）"
   ]
  },
  {
   "cell_type": "markdown",
   "metadata": {},
   "source": [
    "ブール型は概ねPythonと同じように使えます。<b>true</b>, <b>false</b>で定義します。   "
   ]
  },
  {
   "cell_type": "code",
   "execution_count": 37,
   "metadata": {},
   "outputs": [
    {
     "data": {
      "text/plain": [
       "true"
      ]
     },
     "execution_count": 37,
     "metadata": {},
     "output_type": "execute_result"
    }
   ],
   "source": [
    "bool_t = true"
   ]
  },
  {
   "cell_type": "code",
   "execution_count": 38,
   "metadata": {},
   "outputs": [
    {
     "data": {
      "text/plain": [
       "false"
      ]
     },
     "execution_count": 38,
     "metadata": {},
     "output_type": "execute_result"
    }
   ],
   "source": [
    "bool_f = false"
   ]
  },
  {
   "cell_type": "markdown",
   "metadata": {},
   "source": [
    "Pythonでもそうですが、実態は整数型の1と0で、キャスト可能です。"
   ]
  },
  {
   "cell_type": "code",
   "execution_count": 39,
   "metadata": {},
   "outputs": [
    {
     "name": "stdout",
     "output_type": "stream",
     "text": [
      "1\n",
      "0\n"
     ]
    }
   ],
   "source": [
    "println(Int(true))\n",
    "println(Int(false))"
   ]
  },
  {
   "cell_type": "markdown",
   "metadata": {},
   "source": [
    "### 配列（Array）\n",
    "複数のオブジェクトが格納される型の一つで、Pythonのリストと近い型です。   \n",
    "Juliaの配列は格納される値の種類によって型が変わるので、注意が必要です。"
   ]
  },
  {
   "cell_type": "markdown",
   "metadata": {},
   "source": [
    "まずは配列の基本的な操作について示します。"
   ]
  },
  {
   "cell_type": "code",
   "execution_count": 40,
   "metadata": {},
   "outputs": [
    {
     "name": "stdout",
     "output_type": "stream",
     "text": [
      "長さ：3\n",
      "サイズ：(3,)\n",
      "要素のスライス：1\n",
      "内包表記[1, 2, 3, 4, 5, 6, 7, 8, 9, 10]\n"
     ]
    }
   ],
   "source": [
    "c = [1,  2,  3]   # 配列の定義\n",
    "\n",
    "len_c = length(c)   # 要素数を数える\n",
    "println(\"長さ：\", len_c)\n",
    "\n",
    "size_c = size(c)   # サイズを数える\n",
    "println(\"サイズ：\", size_c)\n",
    "\n",
    "println(\"要素のスライス：\", c[1])   # 要素のスライス\n",
    "\n",
    "d = [x for x in 1:10]   # 内包表記\n",
    "println(\"内包表記\", d)"
   ]
  },
  {
   "cell_type": "markdown",
   "metadata": {},
   "source": [
    "要素の追加には<b>push!()</b>を使います。Juliaでは「!」が末尾につく関数は破壊的な関数で、もとのオブジェクトに変更を加えます。"
   ]
  },
  {
   "cell_type": "code",
   "execution_count": 41,
   "metadata": {},
   "outputs": [
    {
     "name": "stdout",
     "output_type": "stream",
     "text": [
      "要素の追加：[1, 2, 3, 10]\n"
     ]
    }
   ],
   "source": [
    "# 要素の追加\n",
    "push!(c, 10)\n",
    "println(\"要素の追加：\", c)"
   ]
  },
  {
   "cell_type": "markdown",
   "metadata": {},
   "source": [
    "要素の削除はpop!を使います。最後の要素を消します。"
   ]
  },
  {
   "cell_type": "code",
   "execution_count": 42,
   "metadata": {},
   "outputs": [
    {
     "name": "stdout",
     "output_type": "stream",
     "text": [
      "要素の追加：[1, 2, 3]\n"
     ]
    }
   ],
   "source": [
    "# 要素の削除\n",
    "pop!(c)\n",
    "println(\"要素の追加：\", c)"
   ]
  },
  {
   "cell_type": "markdown",
   "metadata": {},
   "source": [
    "配列の結合はappend!を使います。"
   ]
  },
  {
   "cell_type": "code",
   "execution_count": 43,
   "metadata": {},
   "outputs": [
    {
     "name": "stdout",
     "output_type": "stream",
     "text": [
      "[1, 2, 3, 4, 5, 6]\n"
     ]
    }
   ],
   "source": [
    "# 配列の結合\n",
    "arr_e = [1, 2, 3]\n",
    "arr_f = [4, 5, 6]\n",
    "append!(arr_e, arr_f)\n",
    "println(arr_e)"
   ]
  },
  {
   "cell_type": "markdown",
   "metadata": {},
   "source": [
    "Pythonではリストの結合は、<b>＋</b>演算子を用いていましたが、Juliaの配列では値の足し算になります。長さが違う配列同士だとエラーになります。"
   ]
  },
  {
   "cell_type": "code",
   "execution_count": 44,
   "metadata": {},
   "outputs": [
    {
     "name": "stdout",
     "output_type": "stream",
     "text": [
      "[5, 7, 9]\n"
     ]
    }
   ],
   "source": [
    "# 配列の足し算\n",
    "arr_g = [1, 2, 3]\n",
    "arr_h = [4, 5, 6]\n",
    "arr_i = arr_g + arr_h\n",
    "println(arr_i)"
   ]
  },
  {
   "cell_type": "markdown",
   "metadata": {},
   "source": [
    "ソートです。逆順もできるし、非破壊も破壊もどちらもできます。"
   ]
  },
  {
   "cell_type": "code",
   "execution_count": 45,
   "metadata": {},
   "outputs": [
    {
     "name": "stdout",
     "output_type": "stream",
     "text": [
      "[1, 2, 3, 4]\n",
      "[4, 3, 2, 1]\n",
      "[1, 2, 3, 4]\n"
     ]
    }
   ],
   "source": [
    "l = [1,3,4,2] # 配列の定義\n",
    "\n",
    "sorted1 = sort(l)  # ソート\n",
    "sorted2 = sort(l, rev=true) # ソート（逆順）\n",
    "\n",
    "println(sorted1)\n",
    "println(sorted2)\n",
    "\n",
    "sort!(l) # !をつけると破壊になります\n",
    "println(l)"
   ]
  },
  {
   "cell_type": "markdown",
   "metadata": {},
   "source": [
    "map処理です。無名関数を定義することで色々できます。無名関数の定義方法もPythonとほとんど同じです。"
   ]
  },
  {
   "cell_type": "code",
   "execution_count": 46,
   "metadata": {},
   "outputs": [
    {
     "data": {
      "text/plain": [
       "2-element Array{Float64,1}:\n",
       " 1.0\n",
       " 2.0"
      ]
     },
     "execution_count": 46,
     "metadata": {},
     "output_type": "execute_result"
    }
   ],
   "source": [
    "map(round, [1.234, 1.789]) # マップで丸め処理"
   ]
  },
  {
   "cell_type": "code",
   "execution_count": 47,
   "metadata": {},
   "outputs": [
    {
     "data": {
      "text/plain": [
       "2-element Array{Float64,1}:\n",
       " 1.2\n",
       " 1.8"
      ]
     },
     "execution_count": 47,
     "metadata": {},
     "output_type": "execute_result"
    }
   ],
   "source": [
    "map(x -> round(x, digits=1), [1.234, 1.789]) # 無名関数でマップ処理を定義"
   ]
  },
  {
   "cell_type": "markdown",
   "metadata": {},
   "source": [
    "Juliaでは配列に格納可能な要素によって配列の型を変えることができます。   \n",
    "何でも入れていいAny, 整数しか入れないInt, 浮動小数点数しか入れないFloatなどです。"
   ]
  },
  {
   "cell_type": "code",
   "execution_count": 48,
   "metadata": {},
   "outputs": [
    {
     "data": {
      "text/plain": [
       "Array{Int64,1}"
      ]
     },
     "execution_count": 48,
     "metadata": {},
     "output_type": "execute_result"
    }
   ],
   "source": [
    "typeof([1,2,3]) # 要素がIntの配列の型を出力"
   ]
  },
  {
   "cell_type": "code",
   "execution_count": 49,
   "metadata": {},
   "outputs": [
    {
     "data": {
      "text/plain": [
       "Array{Any,1}"
      ]
     },
     "execution_count": 49,
     "metadata": {},
     "output_type": "execute_result"
    }
   ],
   "source": [
    "typeof([\"a\", 1]) # 要素が複数型の配列の型を出力"
   ]
  },
  {
   "cell_type": "code",
   "execution_count": 50,
   "metadata": {},
   "outputs": [
    {
     "data": {
      "text/plain": [
       "Array{Any,1}"
      ]
     },
     "execution_count": 50,
     "metadata": {},
     "output_type": "execute_result"
    }
   ],
   "source": [
    "typeof([]) # 要素が空の配列の型を出力"
   ]
  },
  {
   "cell_type": "markdown",
   "metadata": {},
   "source": [
    "Int型の配列にfloatの要素を加えようとするとエラーになります。"
   ]
  },
  {
   "cell_type": "code",
   "execution_count": 51,
   "metadata": {},
   "outputs": [
    {
     "ename": "UndefVarError",
     "evalue": "UndefVarError: int_array not defined",
     "output_type": "error",
     "traceback": [
      "UndefVarError: int_array not defined",
      "",
      "Stacktrace:",
      " [1] top-level scope at In[51]:2"
     ]
    }
   ],
   "source": [
    "int_arrray = [1,2,3]\n",
    "push!(int_array, 0.1)"
   ]
  },
  {
   "cell_type": "markdown",
   "metadata": {},
   "source": [
    "型を指定して配列を定義することもできます。"
   ]
  },
  {
   "cell_type": "code",
   "execution_count": 52,
   "metadata": {},
   "outputs": [
    {
     "data": {
      "text/plain": [
       "Array{Any,1}"
      ]
     },
     "execution_count": 52,
     "metadata": {},
     "output_type": "execute_result"
    }
   ],
   "source": [
    "typeof(Any[]) # 型を指定して配列を定義"
   ]
  },
  {
   "cell_type": "code",
   "execution_count": 53,
   "metadata": {},
   "outputs": [
    {
     "data": {
      "text/plain": [
       "Array{Int64,1}"
      ]
     },
     "execution_count": 53,
     "metadata": {},
     "output_type": "execute_result"
    }
   ],
   "source": [
    "typeof(Int64[]) # 型を指定して配列を定義"
   ]
  },
  {
   "cell_type": "markdown",
   "metadata": {},
   "source": [
    "この配列に型を定義する意味ですが、<b>処理速度に大きく影響します</b>。   \n",
    "\n",
    "AnyとFloatのそれぞれ型の配列に入れた１千万行の乱数のソート時間を比べてみます。筆者環境では10倍程度の差となりました。   \n",
    "\n",
    "@timeを処理の頭につけると処理時間が出力されます。\n"
   ]
  },
  {
   "cell_type": "code",
   "execution_count": 54,
   "metadata": {},
   "outputs": [
    {
     "name": "stdout",
     "output_type": "stream",
     "text": [
      " 11.774127 seconds (10.00 M allocations: 343.324 MiB, 3.82% gc time)\n",
      "  1.044887 seconds (6.09 k allocations: 152.876 MiB)\n"
     ]
    },
    {
     "data": {
      "text/plain": [
       "10000000-element Array{Float64,1}:\n",
       " 3.4347630073483515e-8\n",
       " 8.415208219147985e-8 \n",
       " 1.551899599938622e-7 \n",
       " 1.7340311697644495e-7\n",
       " 2.6862553070827744e-7\n",
       " 3.7764591764855027e-7\n",
       " 4.629972889524936e-7 \n",
       " 5.079785476702625e-7 \n",
       " 5.409444612247682e-7 \n",
       " 6.029986785449637e-7 \n",
       " 6.62143254004377e-7  \n",
       " 7.041589076273169e-7 \n",
       " 7.218942899012148e-7 \n",
       " ⋮                    \n",
       " 0.9999983454256487   \n",
       " 0.9999983923248772   \n",
       " 0.9999987963590307   \n",
       " 0.9999988189101965   \n",
       " 0.9999989387170125   \n",
       " 0.9999992983344137   \n",
       " 0.9999993145999406   \n",
       " 0.9999995156375883   \n",
       " 0.9999996693053133   \n",
       " 0.9999998337038227   \n",
       " 0.9999998401340422   \n",
       " 0.9999998435329107   "
      ]
     },
     "execution_count": 54,
     "metadata": {},
     "output_type": "execute_result"
    }
   ],
   "source": [
    "@time sorted_any = sort(Any[rand() for _ in 1:10000000])\n",
    "@time sorted_float = sort(Float64[rand() for _ in 1:10000000])"
   ]
  },
  {
   "cell_type": "markdown",
   "metadata": {},
   "source": [
    "### 辞書（Dictionary）\n",
    "Pythonでよく使う辞書型です。関数名の違いなどはありますががだいたい同様の使い方ができます。   \n",
    "リテラルはPythonでは<b>{}</b>でしたが、Juliaでは<b>Dict()</b>です。"
   ]
  },
  {
   "cell_type": "code",
   "execution_count": 55,
   "metadata": {},
   "outputs": [
    {
     "name": "stdout",
     "output_type": "stream",
     "text": [
      "Dict(\"b\"=>2,\"a\"=>1)\n",
      "2\n",
      "1\n",
      "[\"b\", \"a\"]\n",
      "[2, 1]\n"
     ]
    }
   ],
   "source": [
    "data_dict = Dict(\"a\" => 1, \"b\" => 2) #辞書の定義\n",
    "println(data_dict)\n",
    "\n",
    "println(length(data_dict)) # 長さの取得\n",
    "\n",
    "println(data_dict[\"a\"]) # キーからバリューへのアクセス\n",
    "\n",
    "println(keys(data_dict)) # キーの取得\n",
    "\n",
    "println(values(data_dict)) # バリューの取得"
   ]
  },
  {
   "cell_type": "markdown",
   "metadata": {},
   "source": [
    "要素の追加・削除、haskey（要素有無の真偽確認）もあります。"
   ]
  },
  {
   "cell_type": "code",
   "execution_count": 56,
   "metadata": {},
   "outputs": [
    {
     "name": "stdout",
     "output_type": "stream",
     "text": [
      "Dict(\"c\"=>3,\"b\"=>2,\"a\"=>1)\n",
      "Dict(\"b\"=>2,\"a\"=>1)\n",
      "true\n"
     ]
    }
   ],
   "source": [
    "data_dict[\"c\"] = 3　# 要素の追加\n",
    "println(data_dict)\n",
    "\n",
    "delete!(data_dict, \"c\")　# 要素の削除\n",
    "println(data_dict)\n",
    "\n",
    "println(haskey(data_dict, \"a\")) # 要素有無の確認"
   ]
  },
  {
   "cell_type": "markdown",
   "metadata": {},
   "source": [
    "配列と同じように、辞書にも格納される要素による型があります。キーとバリューそれぞれの型になります。"
   ]
  },
  {
   "cell_type": "code",
   "execution_count": 57,
   "metadata": {},
   "outputs": [
    {
     "name": "stdout",
     "output_type": "stream",
     "text": [
      "Dict{String,Any}\n",
      "Dict{Int64,String}\n"
     ]
    }
   ],
   "source": [
    "println(typeof(Dict(\"a\" => 1, \"b\" =>  \"k\"))) #辞書の定義\n",
    "println(typeof(Dict(1 => \"a\", 2 =>  \"b\"))) #辞書の定義"
   ]
  },
  {
   "cell_type": "markdown",
   "metadata": {},
   "source": [
    "Pythonではキーに可変オブジェクト（リストや辞書）を設定することができます。   \n",
    "うまく使いこなせば、より豊富な処理ができそうです。"
   ]
  },
  {
   "cell_type": "code",
   "execution_count": 58,
   "metadata": {},
   "outputs": [
    {
     "data": {
      "text/plain": [
       "Dict{Any,Int64}"
      ]
     },
     "execution_count": 58,
     "metadata": {},
     "output_type": "execute_result"
    }
   ],
   "source": [
    "typeof(Dict([100] => 1, 12 =>  2)) #辞書の定義"
   ]
  },
  {
   "cell_type": "markdown",
   "metadata": {},
   "source": [
    "for文を使った典型的な処理例を一つ載せます。"
   ]
  },
  {
   "cell_type": "code",
   "execution_count": 59,
   "metadata": {},
   "outputs": [
    {
     "name": "stdout",
     "output_type": "stream",
     "text": [
      "2\n",
      "1\n"
     ]
    }
   ],
   "source": [
    "# keyリストでfor文を回して、全valueを出力\n",
    "for key in keys(data_dict)\n",
    "    println(data_dict[key])\n",
    "end"
   ]
  },
  {
   "cell_type": "markdown",
   "metadata": {},
   "source": [
    "### タプル（Tuple）\n",
    "こちらもPythonでよく使う型です。Pythonと同様の使い方ができます。辞書はリテラル<b>Dict</b>でしたが、タプルは頭文字小文字の<b>tuple</b>です。"
   ]
  },
  {
   "cell_type": "code",
   "execution_count": 60,
   "metadata": {},
   "outputs": [
    {
     "data": {
      "text/plain": [
       "(1, 2, 3)"
      ]
     },
     "execution_count": 60,
     "metadata": {},
     "output_type": "execute_result"
    }
   ],
   "source": [
    "t = tuple(1,2,3) # タプルの定義"
   ]
  },
  {
   "cell_type": "code",
   "execution_count": 61,
   "metadata": {},
   "outputs": [
    {
     "data": {
      "text/plain": [
       "1"
      ]
     },
     "execution_count": 61,
     "metadata": {},
     "output_type": "execute_result"
    }
   ],
   "source": [
    "t[1] # スライス"
   ]
  },
  {
   "cell_type": "markdown",
   "metadata": {},
   "source": [
    "### 集合型（Collection）\n",
    "集合型は個人的にはリスト（配列）のユニークをとるときによく使うため、まずその使い方を示します。   \n",
    "Pythonと同じように（ただし頭文字は大文字の）<b>Set</b>で定義できます。   "
   ]
  },
  {
   "cell_type": "code",
   "execution_count": 62,
   "metadata": {},
   "outputs": [
    {
     "data": {
      "text/plain": [
       "Set([4, 2, 3, 1])"
      ]
     },
     "execution_count": 62,
     "metadata": {},
     "output_type": "execute_result"
    }
   ],
   "source": [
    "l = [1,2,3,1,2,3,4] # 配列の定義\n",
    "\n",
    "set = Set(l) # 集合型に変換"
   ]
  },
  {
   "cell_type": "markdown",
   "metadata": {},
   "source": [
    "集合演算はこちらです。入力を配列にすると、出力も配列になります。"
   ]
  },
  {
   "cell_type": "code",
   "execution_count": 63,
   "metadata": {},
   "outputs": [
    {
     "data": {
      "text/plain": [
       "5-element Array{Int64,1}:\n",
       " 1\n",
       " 2\n",
       " 3\n",
       " 4\n",
       " 5"
      ]
     },
     "execution_count": 63,
     "metadata": {},
     "output_type": "execute_result"
    }
   ],
   "source": [
    "union([1,2,3], [3,4,5])"
   ]
  },
  {
   "cell_type": "code",
   "execution_count": 64,
   "metadata": {},
   "outputs": [
    {
     "data": {
      "text/plain": [
       "1-element Array{Int64,1}:\n",
       " 3"
      ]
     },
     "execution_count": 64,
     "metadata": {},
     "output_type": "execute_result"
    }
   ],
   "source": [
    "intersect([1,2,3], [3,4,5])"
   ]
  },
  {
   "cell_type": "code",
   "execution_count": 65,
   "metadata": {},
   "outputs": [
    {
     "data": {
      "text/plain": [
       "2-element Array{Int64,1}:\n",
       " 1\n",
       " 2"
      ]
     },
     "execution_count": 65,
     "metadata": {},
     "output_type": "execute_result"
    }
   ],
   "source": [
    "setdiff([1,2,3], [3,4,5])"
   ]
  },
  {
   "cell_type": "markdown",
   "metadata": {},
   "source": [
    "### 制御構文（Statement）\n",
    "ここまでで変数と型の話は終了です。次に、制御構文としてfor, if, try-catch, 関数（function）を見ていきます。ここまでできると基本文法がある程度身についたと言えるでしょう。ここもPythonでやってきている人ならすぐに馴染める内容です。"
   ]
  },
  {
   "cell_type": "markdown",
   "metadata": {},
   "source": [
    "まず初めに、for文を含む関数を定義して、これを実行する例文を見ましょう。   "
   ]
  },
  {
   "cell_type": "code",
   "execution_count": 66,
   "metadata": {},
   "outputs": [
    {
     "name": "stdout",
     "output_type": "stream",
     "text": [
      "[10, 2, 13, 43]\n",
      "Any[100, 4, 169, 1849]\n"
     ]
    }
   ],
   "source": [
    "# 配列を受け取って、各要素の値を２乗した配列を返す関数を定義\n",
    "function calc_square(data)\n",
    "    \n",
    "    new_data = []\n",
    "    for d in data\n",
    "        push!(new_data, d ^ 2)\n",
    "    end\n",
    "    \n",
    "    return new_data\n",
    "\n",
    "end\n",
    "\n",
    "# 配列の定義\n",
    "a = [10, 2, 13, 43]\n",
    "\n",
    "# 関数の適用\n",
    "b = calc_square(a)\n",
    "\n",
    "# 関数の返り値の出力\n",
    "println(a)\n",
    "println(b)"
   ]
  },
  {
   "cell_type": "markdown",
   "metadata": {},
   "source": [
    "上述の通り、関数は「function- end」の構文です。returnで値を返します。省略した場合は、最後に評価された式の値が返り値になります。   \n",
    "for文は「for - end」の構文です。Pythonのようにインデントに構文としての役割はありません。関数もfor文もendで閉じます。   "
   ]
  },
  {
   "cell_type": "markdown",
   "metadata": {},
   "source": [
    "次に、if文を使ったコードを見てみましょう。"
   ]
  },
  {
   "cell_type": "code",
   "execution_count": 67,
   "metadata": {},
   "outputs": [
    {
     "name": "stdout",
     "output_type": "stream",
     "text": [
      "Dict(\"c\"=>3,\"b\"=>4,\"a\"=>1,\"d\"=>16)\n"
     ]
    }
   ],
   "source": [
    "# バリューが偶数の場合は値を２乗する関数を定義\n",
    "function calc_square_even_number(data_dict)    \n",
    "    for key in keys(data_dict)\n",
    "        if data_dict[key] % 2 == 0\n",
    "            data_dict[key] ^= 2 \n",
    "        end\n",
    "    end\n",
    "end\n",
    "\n",
    "data_dict = Dict(\"a\" => 1, \"b\" => 2, \"c\" => 3, \"d\" => 4)\n",
    "calc_square_even_number(data_dict)\n",
    "\n",
    "println(data_dict)"
   ]
  },
  {
   "cell_type": "markdown",
   "metadata": {},
   "source": [
    "上述の通り、if文は「if- end」の構文です。"
   ]
  },
  {
   "cell_type": "markdown",
   "metadata": {},
   "source": [
    "だいたいの雰囲気をつかんで頂けたでしょうか。それぞれについて、もう少し詳細を追記します。"
   ]
  },
  {
   "cell_type": "markdown",
   "metadata": {},
   "source": [
    "### For文\n",
    "For文は<b>for - end</b>の構文です。イテレーションの指定方法として典型的な4通りを示します。範囲指定、配列指定、enumerate、zipです。"
   ]
  },
  {
   "cell_type": "code",
   "execution_count": 68,
   "metadata": {},
   "outputs": [
    {
     "name": "stdout",
     "output_type": "stream",
     "text": [
      "1\n",
      "2\n",
      "3\n",
      "4\n",
      "5\n"
     ]
    }
   ],
   "source": [
    "# 範囲を指定して実行\n",
    "for i in 1:5\n",
    "    println(i)\n",
    "end"
   ]
  },
  {
   "cell_type": "code",
   "execution_count": 69,
   "metadata": {},
   "outputs": [
    {
     "name": "stdout",
     "output_type": "stream",
     "text": [
      "a\n",
      "b\n",
      "c\n"
     ]
    }
   ],
   "source": [
    "# 配列を指定して実行\n",
    "for i in [\"a\", \"b\", \"c\"]\n",
    "    println(i)\n",
    "end"
   ]
  },
  {
   "cell_type": "code",
   "execution_count": 70,
   "metadata": {},
   "outputs": [
    {
     "name": "stdout",
     "output_type": "stream",
     "text": [
      "1 a\n",
      "2 b\n",
      "3 c\n"
     ]
    }
   ],
   "source": [
    "# enumerateで実行\n",
    "for (i, d) in enumerate([\"a\", \"b\", \"c\"])\n",
    "    println(\"$i $d\")\n",
    "end"
   ]
  },
  {
   "cell_type": "code",
   "execution_count": 71,
   "metadata": {},
   "outputs": [
    {
     "name": "stdout",
     "output_type": "stream",
     "text": [
      "1 4\n",
      "2 5\n",
      "3 6\n"
     ]
    }
   ],
   "source": [
    "# zipで実行\n",
    "for (i, d) in zip(1:3, 4:6)\n",
    "    println(\"$i $d\")\n",
    "end"
   ]
  },
  {
   "cell_type": "markdown",
   "metadata": {},
   "source": [
    "次にネストのfor文です。通常の書き方はもちろん、こんな書き方もできます。"
   ]
  },
  {
   "cell_type": "code",
   "execution_count": 72,
   "metadata": {},
   "outputs": [
    {
     "name": "stdout",
     "output_type": "stream",
     "text": [
      "1 4\n",
      "1 5\n",
      "2 4\n",
      "2 5\n",
      "3 4\n",
      "3 5\n"
     ]
    }
   ],
   "source": [
    "for i in 1:3, j in 4:5\n",
    "        println(\"$i $j\")\n",
    "end"
   ]
  },
  {
   "cell_type": "markdown",
   "metadata": {},
   "source": [
    "<b>continue</b>と<b>break</b>もあります。"
   ]
  },
  {
   "cell_type": "code",
   "execution_count": 73,
   "metadata": {},
   "outputs": [
    {
     "name": "stdout",
     "output_type": "stream",
     "text": [
      "1\n",
      "2\n",
      "4\n",
      "5\n"
     ]
    }
   ],
   "source": [
    "# i==3はcontinue\n",
    "for i in 1:5\n",
    "    if i == 3\n",
    "        continue\n",
    "    end\n",
    "    println(i)\n",
    "end"
   ]
  },
  {
   "cell_type": "code",
   "execution_count": 74,
   "metadata": {},
   "outputs": [
    {
     "name": "stdout",
     "output_type": "stream",
     "text": [
      "1\n",
      "2\n"
     ]
    }
   ],
   "source": [
    "# i==3でbreak\n",
    "for i in 1:5\n",
    "    if i == 3\n",
    "        break\n",
    "    end\n",
    "    println(i)\n",
    "end"
   ]
  },
  {
   "cell_type": "markdown",
   "metadata": {},
   "source": [
    "### If文\n",
    "If文もendで閉じる必要があります。また、Pythonでの<b>else</b>は<b>elseif</b>で記述します。   \n",
    "条件文の書き方について。<b>==</b>,<b>!=</b>,<b>>=</b>などが使えます。   "
   ]
  },
  {
   "cell_type": "code",
   "execution_count": 75,
   "metadata": {},
   "outputs": [
    {
     "name": "stdout",
     "output_type": "stream",
     "text": [
      "ifで出力\n",
      "elseifで出力\n",
      "elseで出力\n"
     ]
    }
   ],
   "source": [
    "for i in 1:3\n",
    "    if i == 1\n",
    "        println(\"ifで出力\")\n",
    "    elseif i !=3\n",
    "        println(\"elseifで出力\")\n",
    "    else\n",
    "        println(\"elseで出力\")\n",
    "    end\n",
    "end"
   ]
  },
  {
   "cell_type": "markdown",
   "metadata": {},
   "source": [
    "条件分岐に関して、Pythonで可能な<b>if A not in B</b>のような<b>not</b>を使った書き方はできません。"
   ]
  },
  {
   "cell_type": "code",
   "execution_count": 76,
   "metadata": {},
   "outputs": [
    {
     "ename": "LoadError",
     "evalue": "syntax: extra token \"not\" after end of expression",
     "output_type": "error",
     "traceback": [
      "syntax: extra token \"not\" after end of expression",
      ""
     ]
    }
   ],
   "source": [
    "a = 1\n",
    "a not in [1,2,3]  # エラーで落ちます"
   ]
  },
  {
   "cell_type": "markdown",
   "metadata": {},
   "source": [
    "複数条件に関しては、AND条件が<b> && </b>で、OR条件が<b> || </b>を使います。   "
   ]
  },
  {
   "cell_type": "code",
   "execution_count": 77,
   "metadata": {},
   "outputs": [
    {
     "name": "stdout",
     "output_type": "stream",
     "text": [
      "true\n"
     ]
    }
   ],
   "source": [
    "# AND条件\n",
    "a = 1 \n",
    "b = 2\n",
    "if a ==1 && b == 2\n",
    "    println(true)\n",
    "end"
   ]
  },
  {
   "cell_type": "code",
   "execution_count": 78,
   "metadata": {},
   "outputs": [
    {
     "name": "stdout",
     "output_type": "stream",
     "text": [
      "true\n"
     ]
    }
   ],
   "source": [
    "# OR条件\n",
    "a = 1 \n",
    "c = 3\n",
    "if a ==1 || c == 2\n",
    "    println(true)\n",
    "end"
   ]
  },
  {
   "cell_type": "markdown",
   "metadata": {},
   "source": [
    "### 関数（Function）\n",
    "最後に関数の書き方について、通常の定義の仕方は<b>function 関数名(引数1, 引数2) - end</b>です。   \n",
    "この他にも、<b>assignment form</b>と呼ばれる定義方法があります。簡単な関数はこちらの方がスッキリした記法になります。   "
   ]
  },
  {
   "cell_type": "code",
   "execution_count": 79,
   "metadata": {},
   "outputs": [
    {
     "data": {
      "text/plain": [
       "4"
      ]
     },
     "execution_count": 79,
     "metadata": {},
     "output_type": "execute_result"
    }
   ],
   "source": [
    "# 通常の書き方\n",
    "function f(x)\n",
    "    return x ^ 2\n",
    "end\n",
    "\n",
    "f(2)"
   ]
  },
  {
   "cell_type": "code",
   "execution_count": 80,
   "metadata": {},
   "outputs": [
    {
     "data": {
      "text/plain": [
       "4"
      ]
     },
     "execution_count": 80,
     "metadata": {},
     "output_type": "execute_result"
    }
   ],
   "source": [
    "# assignment form\n",
    "f(x) = return x ^ 2\n",
    "\n",
    "f(2)"
   ]
  },
  {
   "cell_type": "markdown",
   "metadata": {},
   "source": [
    "Pythonとの違いとして、<b>return</b>がなくても最後に定義された変数を自動でリターンしてくれるという機能があります。"
   ]
  },
  {
   "cell_type": "code",
   "execution_count": 81,
   "metadata": {},
   "outputs": [
    {
     "name": "stdout",
     "output_type": "stream",
     "text": [
      "4\n"
     ]
    }
   ],
   "source": [
    "# returnの省略\n",
    "function f2(x)\n",
    "    x ^2\n",
    "end\n",
    "\n",
    "result = f2(2)\n",
    "println(result)"
   ]
  },
  {
   "cell_type": "markdown",
   "metadata": {},
   "source": [
    "すでにmap処理のところで出てきましたが、無名関数は<b>-></b>を使って定義します。   "
   ]
  },
  {
   "cell_type": "code",
   "execution_count": 82,
   "metadata": {},
   "outputs": [
    {
     "data": {
      "text/plain": [
       "2-element Array{Int64,1}:\n",
       "  4\n",
       " 16"
      ]
     },
     "execution_count": 82,
     "metadata": {},
     "output_type": "execute_result"
    }
   ],
   "source": [
    "map(x -> x^2, [2,4])"
   ]
  },
  {
   "cell_type": "markdown",
   "metadata": {},
   "source": [
    "以上で終わりです。おつかれさまでした。   \n",
    "Juliaについては言語仕様を色々掘っていくと面白いのですが、ここでは実践的な内容に留め、まず使い方を学ぶ形に仕上げました。     \n",
    "これを機にもっとJuliaのことを知りたいと思ってもらえると幸いです。では。   "
   ]
  }
 ],
 "metadata": {
  "anaconda-cloud": {},
  "kernelspec": {
   "display_name": "Julia 1.0.2",
   "language": "julia",
   "name": "julia-1.0"
  },
  "language_info": {
   "file_extension": ".jl",
   "mimetype": "application/julia",
   "name": "julia",
   "version": "1.0.2"
  }
 },
 "nbformat": 4,
 "nbformat_minor": 2
}
